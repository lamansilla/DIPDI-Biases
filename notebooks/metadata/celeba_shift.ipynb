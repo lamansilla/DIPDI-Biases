{
 "cells": [
  {
   "cell_type": "code",
   "execution_count": 1,
   "metadata": {},
   "outputs": [],
   "source": [
    "import pandas as pd\n",
    "import numpy as np\n",
    "import matplotlib.pyplot as plt\n",
    "import seaborn as sns\n",
    "from pathlib import Path\n",
    "import os"
   ]
  },
  {
   "cell_type": "code",
   "execution_count": 2,
   "metadata": {},
   "outputs": [],
   "source": [
    "celeba_dir = Path(\"../../../datasets/CelebA\")\n",
    "\n",
    "partition_file_path = celeba_dir / \"list_eval_partition.txt\"\n",
    "with open(partition_file_path, \"r\") as f:\n",
    "    partitions = f.readlines()\n",
    "\n",
    "attr_file_path = celeba_dir / \"list_attr_celeba.txt\"\n",
    "with open(attr_file_path, \"r\") as f:\n",
    "    attrs = f.readlines()[2:]"
   ]
  },
  {
   "cell_type": "code",
   "execution_count": 3,
   "metadata": {},
   "outputs": [],
   "source": [
    "paths = []\n",
    "splits = []\n",
    "labels = []\n",
    "genders = []\n",
    "\n",
    "for i, (partition, attr) in enumerate(zip(partitions, attrs)):\n",
    "    file_name, split = partition.strip().split()\n",
    "    attributes = attr.strip().split()[1:]\n",
    "    \n",
    "    label = 1 if attributes[9] == \"1\" else 0\n",
    "    gender = \"Male\" if attributes[20] == \"1\" else \"Female\"\n",
    "    \n",
    "    image_path = os.path.join(\"CelebA\", \"img_align_celeba\", file_name)\n",
    "    paths.append(image_path)\n",
    "    splits.append(int(split))\n",
    "    labels.append(label)\n",
    "    genders.append(gender)"
   ]
  },
  {
   "cell_type": "code",
   "execution_count": 4,
   "metadata": {},
   "outputs": [],
   "source": [
    "data = pd.DataFrame({\n",
    "    \"id\": list(range(1, len(paths) + 1)),\n",
    "    \"path\": paths,\n",
    "    \"split\": splits,\n",
    "    \"y\": labels,\n",
    "    \"gender\": genders,\n",
    "})\n",
    "\n",
    "attr_mapping = {\"0_Male\": 0, \"0_Female\": 1, \"1_Male\": 2, \"1_Female\": 3}\n",
    "data[\"g\"] = (data[\"y\"].astype(str) + \"_\" + data[\"gender\"]).map(attr_mapping)\n",
    "data[\"a\"] = data[\"gender\"].map({\"Male\": 0, \"Female\": 1}).astype(int)"
   ]
  },
  {
   "cell_type": "code",
   "execution_count": 5,
   "metadata": {},
   "outputs": [
    {
     "name": "stdout",
     "output_type": "stream",
     "text": [
      "Total: 202599\n",
      "Train: 162770\n",
      "Val: 19867\n",
      "Test: 19962\n",
      "Gender ratio (test): [118165, 84434]\n"
     ]
    }
   ],
   "source": [
    "print(\"Total:\", len(data))\n",
    "print(\"Train:\", len(data[data[\"split\"] == 0]))\n",
    "print(\"Val:\", len(data[data[\"split\"] == 1]))\n",
    "print(\"Test:\", len(data[data[\"split\"] == 2]))\n",
    "print(\"Gender ratio (test):\", data[\"gender\"].value_counts().tolist())"
   ]
  },
  {
   "cell_type": "code",
   "execution_count": 6,
   "metadata": {},
   "outputs": [
    {
     "data": {
      "text/html": [
       "<div>\n",
       "<style scoped>\n",
       "    .dataframe tbody tr th:only-of-type {\n",
       "        vertical-align: middle;\n",
       "    }\n",
       "\n",
       "    .dataframe tbody tr th {\n",
       "        vertical-align: top;\n",
       "    }\n",
       "\n",
       "    .dataframe thead th {\n",
       "        text-align: right;\n",
       "    }\n",
       "</style>\n",
       "<table border=\"1\" class=\"dataframe\">\n",
       "  <thead>\n",
       "    <tr style=\"text-align: right;\">\n",
       "      <th></th>\n",
       "      <th>id</th>\n",
       "      <th>path</th>\n",
       "      <th>split</th>\n",
       "      <th>y</th>\n",
       "      <th>gender</th>\n",
       "      <th>g</th>\n",
       "      <th>a</th>\n",
       "    </tr>\n",
       "  </thead>\n",
       "  <tbody>\n",
       "    <tr>\n",
       "      <th>0</th>\n",
       "      <td>1</td>\n",
       "      <td>CelebA/img_align_celeba/000001.jpg</td>\n",
       "      <td>0</td>\n",
       "      <td>0</td>\n",
       "      <td>Female</td>\n",
       "      <td>1</td>\n",
       "      <td>1</td>\n",
       "    </tr>\n",
       "    <tr>\n",
       "      <th>1</th>\n",
       "      <td>2</td>\n",
       "      <td>CelebA/img_align_celeba/000002.jpg</td>\n",
       "      <td>0</td>\n",
       "      <td>0</td>\n",
       "      <td>Female</td>\n",
       "      <td>1</td>\n",
       "      <td>1</td>\n",
       "    </tr>\n",
       "    <tr>\n",
       "      <th>2</th>\n",
       "      <td>3</td>\n",
       "      <td>CelebA/img_align_celeba/000003.jpg</td>\n",
       "      <td>0</td>\n",
       "      <td>0</td>\n",
       "      <td>Male</td>\n",
       "      <td>0</td>\n",
       "      <td>0</td>\n",
       "    </tr>\n",
       "    <tr>\n",
       "      <th>3</th>\n",
       "      <td>4</td>\n",
       "      <td>CelebA/img_align_celeba/000004.jpg</td>\n",
       "      <td>0</td>\n",
       "      <td>0</td>\n",
       "      <td>Female</td>\n",
       "      <td>1</td>\n",
       "      <td>1</td>\n",
       "    </tr>\n",
       "    <tr>\n",
       "      <th>4</th>\n",
       "      <td>5</td>\n",
       "      <td>CelebA/img_align_celeba/000005.jpg</td>\n",
       "      <td>0</td>\n",
       "      <td>0</td>\n",
       "      <td>Female</td>\n",
       "      <td>1</td>\n",
       "      <td>1</td>\n",
       "    </tr>\n",
       "    <tr>\n",
       "      <th>5</th>\n",
       "      <td>6</td>\n",
       "      <td>CelebA/img_align_celeba/000006.jpg</td>\n",
       "      <td>0</td>\n",
       "      <td>0</td>\n",
       "      <td>Female</td>\n",
       "      <td>1</td>\n",
       "      <td>1</td>\n",
       "    </tr>\n",
       "    <tr>\n",
       "      <th>6</th>\n",
       "      <td>7</td>\n",
       "      <td>CelebA/img_align_celeba/000007.jpg</td>\n",
       "      <td>0</td>\n",
       "      <td>0</td>\n",
       "      <td>Male</td>\n",
       "      <td>0</td>\n",
       "      <td>0</td>\n",
       "    </tr>\n",
       "    <tr>\n",
       "      <th>7</th>\n",
       "      <td>8</td>\n",
       "      <td>CelebA/img_align_celeba/000008.jpg</td>\n",
       "      <td>0</td>\n",
       "      <td>0</td>\n",
       "      <td>Male</td>\n",
       "      <td>0</td>\n",
       "      <td>0</td>\n",
       "    </tr>\n",
       "    <tr>\n",
       "      <th>8</th>\n",
       "      <td>9</td>\n",
       "      <td>CelebA/img_align_celeba/000009.jpg</td>\n",
       "      <td>0</td>\n",
       "      <td>0</td>\n",
       "      <td>Female</td>\n",
       "      <td>1</td>\n",
       "      <td>1</td>\n",
       "    </tr>\n",
       "    <tr>\n",
       "      <th>9</th>\n",
       "      <td>10</td>\n",
       "      <td>CelebA/img_align_celeba/000010.jpg</td>\n",
       "      <td>0</td>\n",
       "      <td>0</td>\n",
       "      <td>Female</td>\n",
       "      <td>1</td>\n",
       "      <td>1</td>\n",
       "    </tr>\n",
       "    <tr>\n",
       "      <th>10</th>\n",
       "      <td>11</td>\n",
       "      <td>CelebA/img_align_celeba/000011.jpg</td>\n",
       "      <td>0</td>\n",
       "      <td>0</td>\n",
       "      <td>Female</td>\n",
       "      <td>1</td>\n",
       "      <td>1</td>\n",
       "    </tr>\n",
       "    <tr>\n",
       "      <th>11</th>\n",
       "      <td>12</td>\n",
       "      <td>CelebA/img_align_celeba/000012.jpg</td>\n",
       "      <td>0</td>\n",
       "      <td>0</td>\n",
       "      <td>Male</td>\n",
       "      <td>0</td>\n",
       "      <td>0</td>\n",
       "    </tr>\n",
       "    <tr>\n",
       "      <th>12</th>\n",
       "      <td>13</td>\n",
       "      <td>CelebA/img_align_celeba/000013.jpg</td>\n",
       "      <td>0</td>\n",
       "      <td>1</td>\n",
       "      <td>Male</td>\n",
       "      <td>2</td>\n",
       "      <td>0</td>\n",
       "    </tr>\n",
       "    <tr>\n",
       "      <th>13</th>\n",
       "      <td>14</td>\n",
       "      <td>CelebA/img_align_celeba/000014.jpg</td>\n",
       "      <td>0</td>\n",
       "      <td>0</td>\n",
       "      <td>Female</td>\n",
       "      <td>1</td>\n",
       "      <td>1</td>\n",
       "    </tr>\n",
       "    <tr>\n",
       "      <th>14</th>\n",
       "      <td>15</td>\n",
       "      <td>CelebA/img_align_celeba/000015.jpg</td>\n",
       "      <td>0</td>\n",
       "      <td>0</td>\n",
       "      <td>Male</td>\n",
       "      <td>0</td>\n",
       "      <td>0</td>\n",
       "    </tr>\n",
       "    <tr>\n",
       "      <th>15</th>\n",
       "      <td>16</td>\n",
       "      <td>CelebA/img_align_celeba/000016.jpg</td>\n",
       "      <td>0</td>\n",
       "      <td>0</td>\n",
       "      <td>Male</td>\n",
       "      <td>0</td>\n",
       "      <td>0</td>\n",
       "    </tr>\n",
       "    <tr>\n",
       "      <th>16</th>\n",
       "      <td>17</td>\n",
       "      <td>CelebA/img_align_celeba/000017.jpg</td>\n",
       "      <td>0</td>\n",
       "      <td>0</td>\n",
       "      <td>Female</td>\n",
       "      <td>1</td>\n",
       "      <td>1</td>\n",
       "    </tr>\n",
       "    <tr>\n",
       "      <th>17</th>\n",
       "      <td>18</td>\n",
       "      <td>CelebA/img_align_celeba/000018.jpg</td>\n",
       "      <td>0</td>\n",
       "      <td>1</td>\n",
       "      <td>Female</td>\n",
       "      <td>3</td>\n",
       "      <td>1</td>\n",
       "    </tr>\n",
       "    <tr>\n",
       "      <th>18</th>\n",
       "      <td>19</td>\n",
       "      <td>CelebA/img_align_celeba/000019.jpg</td>\n",
       "      <td>0</td>\n",
       "      <td>1</td>\n",
       "      <td>Female</td>\n",
       "      <td>3</td>\n",
       "      <td>1</td>\n",
       "    </tr>\n",
       "    <tr>\n",
       "      <th>19</th>\n",
       "      <td>20</td>\n",
       "      <td>CelebA/img_align_celeba/000020.jpg</td>\n",
       "      <td>0</td>\n",
       "      <td>0</td>\n",
       "      <td>Male</td>\n",
       "      <td>0</td>\n",
       "      <td>0</td>\n",
       "    </tr>\n",
       "  </tbody>\n",
       "</table>\n",
       "</div>"
      ],
      "text/plain": [
       "    id                                path  split  y  gender  g  a\n",
       "0    1  CelebA/img_align_celeba/000001.jpg      0  0  Female  1  1\n",
       "1    2  CelebA/img_align_celeba/000002.jpg      0  0  Female  1  1\n",
       "2    3  CelebA/img_align_celeba/000003.jpg      0  0    Male  0  0\n",
       "3    4  CelebA/img_align_celeba/000004.jpg      0  0  Female  1  1\n",
       "4    5  CelebA/img_align_celeba/000005.jpg      0  0  Female  1  1\n",
       "5    6  CelebA/img_align_celeba/000006.jpg      0  0  Female  1  1\n",
       "6    7  CelebA/img_align_celeba/000007.jpg      0  0    Male  0  0\n",
       "7    8  CelebA/img_align_celeba/000008.jpg      0  0    Male  0  0\n",
       "8    9  CelebA/img_align_celeba/000009.jpg      0  0  Female  1  1\n",
       "9   10  CelebA/img_align_celeba/000010.jpg      0  0  Female  1  1\n",
       "10  11  CelebA/img_align_celeba/000011.jpg      0  0  Female  1  1\n",
       "11  12  CelebA/img_align_celeba/000012.jpg      0  0    Male  0  0\n",
       "12  13  CelebA/img_align_celeba/000013.jpg      0  1    Male  2  0\n",
       "13  14  CelebA/img_align_celeba/000014.jpg      0  0  Female  1  1\n",
       "14  15  CelebA/img_align_celeba/000015.jpg      0  0    Male  0  0\n",
       "15  16  CelebA/img_align_celeba/000016.jpg      0  0    Male  0  0\n",
       "16  17  CelebA/img_align_celeba/000017.jpg      0  0  Female  1  1\n",
       "17  18  CelebA/img_align_celeba/000018.jpg      0  1  Female  3  1\n",
       "18  19  CelebA/img_align_celeba/000019.jpg      0  1  Female  3  1\n",
       "19  20  CelebA/img_align_celeba/000020.jpg      0  0    Male  0  0"
      ]
     },
     "execution_count": 6,
     "metadata": {},
     "output_type": "execute_result"
    }
   ],
   "source": [
    "data.head(20)"
   ]
  },
  {
   "cell_type": "code",
   "execution_count": 11,
   "metadata": {},
   "outputs": [
    {
     "data": {
      "text/plain": [
       "(218, 178, 3)"
      ]
     },
     "execution_count": 11,
     "metadata": {},
     "output_type": "execute_result"
    }
   ],
   "source": [
    "im.shape"
   ]
  },
  {
   "cell_type": "code",
   "execution_count": null,
   "metadata": {},
   "outputs": [],
   "source": [
    "im = plt.imread(os.path.join(\"../../../datasets\", data[\"path\"][2]))\n",
    "plt.imshow(im)"
   ]
  },
  {
   "cell_type": "code",
   "execution_count": 21,
   "metadata": {},
   "outputs": [
    {
     "data": {
      "text/plain": [
       "g\n",
       "1    0.443887\n",
       "0    0.408121\n",
       "3    0.139359\n",
       "2    0.008633\n",
       "Name: proportion, dtype: float64"
      ]
     },
     "execution_count": 21,
     "metadata": {},
     "output_type": "execute_result"
    }
   ],
   "source": [
    "data[\"g\"].value_counts(normalize=True)"
   ]
  },
  {
   "cell_type": "code",
   "execution_count": 22,
   "metadata": {},
   "outputs": [
    {
     "data": {
      "text/plain": [
       "split\n",
       "0    182637\n",
       "1     19962\n",
       "Name: count, dtype: int64"
      ]
     },
     "execution_count": 22,
     "metadata": {},
     "output_type": "execute_result"
    }
   ],
   "source": [
    "data[\"split\"] = data[\"split\"].map({0: 0, 1: 0, 2: 1}).astype(int)\n",
    "data[\"split\"].value_counts()"
   ]
  },
  {
   "cell_type": "code",
   "execution_count": 23,
   "metadata": {},
   "outputs": [
    {
     "name": "stdout",
     "output_type": "stream",
     "text": [
      "g\n",
      "1    0.438925\n",
      "0    0.411472\n",
      "3    0.141012\n",
      "2    0.008591\n",
      "Name: proportion, dtype: float64\n"
     ]
    }
   ],
   "source": [
    "train_data = data[data[\"split\"] == 0].reset_index(drop=True)\n",
    "test_data = data[data[\"split\"] == 1].reset_index(drop=True)\n",
    "\n",
    "print(train_data[\"g\"].value_counts(normalize=True))"
   ]
  },
  {
   "cell_type": "code",
   "execution_count": 24,
   "metadata": {},
   "outputs": [
    {
     "name": "stdout",
     "output_type": "stream",
     "text": [
      "n_m: 76719\n",
      "n_neg_m prop: 0.98\n",
      "n_pos_m prop: 0.02\n",
      "\n",
      "n_f: 105918\n",
      "n_neg_f prop: 0.76\n",
      "n_pos_f prop: 0.24\n"
     ]
    }
   ],
   "source": [
    "n_neg_m = len(train_data[(train_data[\"g\"] == 0) & (train_data[\"a\"] == 0)])\n",
    "n_pos_m = len(train_data[(train_data[\"g\"] == 2) & (train_data[\"a\"] == 0)])\n",
    "n_m = n_neg_m + n_pos_m\n",
    "\n",
    "n_neg_m_prop = n_neg_m / n_m\n",
    "n_pos_m_prop = 1 - n_neg_m_prop\n",
    "\n",
    "print(\"n_m:\", n_m)\n",
    "print(\"n_neg_m prop:\", f\"{n_neg_m_prop:.2f}\")\n",
    "print(\"n_pos_m prop:\", f\"{n_pos_m_prop:.2f}\")\n",
    "\n",
    "n_neg_f = len(train_data[(train_data[\"g\"] == 1) & (train_data[\"a\"] == 1)])\n",
    "n_pos_f = len(train_data[(train_data[\"g\"] == 3) & (train_data[\"a\"] == 1)])\n",
    "n_f = n_neg_f + n_pos_f\n",
    "\n",
    "n_neg_f_prop = n_neg_f / n_f\n",
    "n_pos_f_prop = 1 - n_neg_f_prop\n",
    "\n",
    "print()\n",
    "print(\"n_f:\", n_f)\n",
    "print(\"n_neg_f prop:\", f\"{n_neg_f_prop:.2f}\")\n",
    "print(\"n_pos_f prop:\", f\"{n_pos_f_prop:.2f}\")"
   ]
  },
  {
   "cell_type": "code",
   "execution_count": 25,
   "metadata": {},
   "outputs": [],
   "source": [
    "n_m_sample = train_data[\"g\"].value_counts().min() * 2\n",
    "\n",
    "train_data_m = train_data[train_data[\"a\"] == 0].sample(n_m_sample, replace=False, random_state=42)\n",
    "train_data_f = train_data[train_data[\"a\"] == 1].sample(n_m_sample, replace=False, random_state=42)\n",
    "\n",
    "train_data_sc = pd.concat([train_data_m, train_data_f]).reset_index(drop=True)"
   ]
  },
  {
   "cell_type": "code",
   "execution_count": 26,
   "metadata": {},
   "outputs": [],
   "source": [
    "n_m_sample = train_data[\"g\"].value_counts().min() * 2\n",
    "n_m_sample_pos = int(n_m_sample * n_pos_m_prop)\n",
    "n_m_sample_neg = n_m_sample - n_m_sample_pos\n",
    "\n",
    "train_data_m_neg = train_data[(train_data[\"g\"] == 0) & (train_data[\"a\"] == 0)].sample(n_m_sample_neg, replace=False, random_state=42)\n",
    "train_data_m_pos = train_data[(train_data[\"g\"] == 2) & (train_data[\"a\"] == 0)].sample(n_m_sample_pos, replace=False, random_state=42)\n",
    "\n",
    "n_f_sample = n_m_sample\n",
    "n_f_sample_pos = int(n_f_sample * n_pos_f_prop)\n",
    "n_f_sample_neg = n_f_sample - n_f_sample_pos\n",
    "\n",
    "train_data_f_neg = train_data[(train_data[\"g\"] == 1) & (train_data[\"a\"] == 1)].sample(n_f_sample_neg, replace=False, random_state=42)\n",
    "train_data_f_pos = train_data[(train_data[\"g\"] == 3) & (train_data[\"a\"] == 1)].sample(n_f_sample_pos, replace=False, random_state=42)\n",
    "\n",
    "train_data_sc = pd.concat([train_data_m_neg, train_data_m_pos, train_data_f_neg, train_data_f_pos]).reset_index(drop=True)"
   ]
  },
  {
   "cell_type": "code",
   "execution_count": 27,
   "metadata": {},
   "outputs": [
    {
     "name": "stdout",
     "output_type": "stream",
     "text": [
      "6276\n",
      "g\n",
      "0    0.489802\n",
      "1    0.378426\n",
      "3    0.121574\n",
      "2    0.010198\n",
      "Name: proportion, dtype: float64\n"
     ]
    }
   ],
   "source": [
    "output_dir = Path(\"../../metadata/shifted_celeba\")\n",
    "output_dir.mkdir(exist_ok=True, parents=True)\n",
    "\n",
    "print(len(train_data_sc))\n",
    "print(train_data_sc[\"g\"].value_counts(normalize=True))\n",
    "\n",
    "train_data_sc = train_data_sc[[\"path\", \"y\", \"a\", \"split\"]]\n",
    "train_data_sc.to_csv(output_dir / \"train_sc.csv\", index=False)"
   ]
  },
  {
   "cell_type": "code",
   "execution_count": 28,
   "metadata": {},
   "outputs": [
    {
     "name": "stdout",
     "output_type": "stream",
     "text": [
      "6276\n",
      "g\n",
      "0    0.25\n",
      "1    0.25\n",
      "2    0.25\n",
      "3    0.25\n",
      "Name: proportion, dtype: float64\n"
     ]
    }
   ],
   "source": [
    "train_data_bal = train_data.groupby(\"g\").apply(lambda x: x.sample(train_data[\"g\"].value_counts().min()))\n",
    "test_data_bal = test_data.groupby(\"g\").apply(lambda x: x.sample(test_data[\"g\"].value_counts().min()))\n",
    "\n",
    "print(len(train_data_bal))\n",
    "print(train_data_bal[\"g\"].value_counts(normalize=True))\n",
    "\n",
    "train_data_bal = train_data_bal[[\"path\", \"y\", \"a\", \"split\"]]\n",
    "test_data_bal = test_data_bal[[\"path\", \"y\", \"a\", \"split\"]]\n",
    "\n",
    "train_data_bal.to_csv(output_dir / \"train_bal.csv\", index=False)\n",
    "test_data_bal.to_csv(output_dir / \"test_bal.csv\", index=False)"
   ]
  }
 ],
 "metadata": {
  "kernelspec": {
   "display_name": "dipdi-fairness",
   "language": "python",
   "name": "python3"
  },
  "language_info": {
   "codemirror_mode": {
    "name": "ipython",
    "version": 3
   },
   "file_extension": ".py",
   "mimetype": "text/x-python",
   "name": "python",
   "nbconvert_exporter": "python",
   "pygments_lexer": "ipython3",
   "version": "3.11.4"
  },
  "orig_nbformat": 4
 },
 "nbformat": 4,
 "nbformat_minor": 2
}
